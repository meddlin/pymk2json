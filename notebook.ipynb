{
 "cells": [
  {
   "cell_type": "markdown",
   "metadata": {},
   "source": [
    "# Markdown Table to JSON Conversions\n",
    "\n",
    "Ref: [https://stackoverflow.com/questions/66185838/convert-markdown-table-to-json-with-python](https://stackoverflow.com/questions/66185838/convert-markdown-table-to-json-with-python)"
   ]
  },
  {
   "cell_type": "code",
   "execution_count": 3,
   "metadata": {},
   "outputs": [
    {
     "name": "stdout",
     "output_type": "stream",
     "text": [
      "[\n",
      "    {\n",
      "        \"Some Title\": \"Dark Souls\",\n",
      "        \"Some Description\": \"This is a fun game\",\n",
      "        \"Some Number\": \"5\"\n",
      "    },\n",
      "    {\n",
      "        \"Some Title\": \"Bloodborne\",\n",
      "        \"Some Description\": \"This one is even better\",\n",
      "        \"Some Number\": \"2\"\n",
      "    },\n",
      "    {\n",
      "        \"Some Title\": \"Sekiro\",\n",
      "        \"Some Description\": \"This one is also pretty good\",\n",
      "        \"Some Number\": \"110101\"\n",
      "    }\n",
      "]\n"
     ]
    }
   ],
   "source": [
    "import json\n",
    "\n",
    "my_str='''| Some Title | Some Description             | Some Number |\n",
    "|------------|------------------------------|-------------|\n",
    "| Dark Souls | This is a fun game           | 5           |\n",
    "| Bloodborne | This one is even better      | 2           |\n",
    "| Sekiro     | This one is also pretty good | 110101      |'''\n",
    "\n",
    "def mrkd2json(inp):\n",
    "    lines = inp.split('\\n')\n",
    "    ret=[]\n",
    "    keys=[]\n",
    "    for i,l in enumerate(lines):\n",
    "        if i==0:\n",
    "            keys=[_i.strip() for _i in l.split('|')]\n",
    "        elif i==1: continue\n",
    "        else:\n",
    "            ret.append({keys[_i]:v.strip() for _i,v in enumerate(l.split('|')) if  _i>0 and _i<len(keys)-1})\n",
    "    return json.dumps(ret, indent = 4) \n",
    "\n",
    "print(mrkd2json(my_str))"
   ]
  }
 ],
 "metadata": {
  "kernelspec": {
   "display_name": "Python 3",
   "language": "python",
   "name": "python3"
  },
  "language_info": {
   "codemirror_mode": {
    "name": "ipython",
    "version": 3
   },
   "file_extension": ".py",
   "mimetype": "text/x-python",
   "name": "python",
   "nbconvert_exporter": "python",
   "pygments_lexer": "ipython3",
   "version": "3.10.11"
  }
 },
 "nbformat": 4,
 "nbformat_minor": 2
}
